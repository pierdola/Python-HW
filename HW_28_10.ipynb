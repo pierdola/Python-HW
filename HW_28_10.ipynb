{
  "nbformat": 4,
  "nbformat_minor": 0,
  "metadata": {
    "colab": {
      "name": "HW 28.10",
      "provenance": [],
      "collapsed_sections": []
    },
    "kernelspec": {
      "name": "python3",
      "display_name": "Python 3"
    },
    "language_info": {
      "name": "python"
    }
  },
  "cells": [
    {
      "cell_type": "code",
      "execution_count": 21,
      "metadata": {
        "colab": {
          "base_uri": "https://localhost:8080/"
        },
        "id": "nLsL_0xSJnns",
        "outputId": "905919f7-6e2b-4060-f169-f71b85339d05"
      },
      "outputs": [
        {
          "output_type": "stream",
          "name": "stdout",
          "text": [
            "5.0\n",
            "None\n"
          ]
        }
      ],
      "source": [
        "def average(a):\n",
        " s=sum(a)\n",
        " sr =(sum(a)/len(a))\n",
        " print(sr)\n",
        "\n",
        "a=[8, 6, 4, 2]\n",
        "print(average(a))\n",
        "\n"
      ]
    },
    {
      "cell_type": "code",
      "source": [
        "def bin(n):\n",
        "    b = ''\n",
        " \n",
        "    while n > 0:\n",
        "        b = str(n % 2) + b\n",
        "        n = n // 2\n",
        "\n",
        "    return b\n",
        "\n",
        "n=5\n",
        "print(bin(n))"
      ],
      "metadata": {
        "colab": {
          "base_uri": "https://localhost:8080/"
        },
        "id": "Vt0HKWmmOr9k",
        "outputId": "f08c0d00-d4d0-4b8d-977b-3c4e43d1a29f"
      },
      "execution_count": 35,
      "outputs": [
        {
          "output_type": "stream",
          "name": "stdout",
          "text": [
            "101\n"
          ]
        }
      ]
    },
    {
      "cell_type": "code",
      "source": [
        "def dec(x):\n",
        "    reversed_string = x[::-1]\n",
        "    b = len(x)\n",
        "    a = 0\n",
        "    \n",
        "    for i in range(b):\n",
        "        a += int(reversed_string[i]) * 2**i\n",
        "\n",
        "    return a\n",
        "\n",
        "x='1011'\n",
        "print(dec(x))\n",
        "\n"
      ],
      "metadata": {
        "colab": {
          "base_uri": "https://localhost:8080/"
        },
        "id": "MtGWI1i-Pku5",
        "outputId": "6d255da3-3282-4f7a-eff0-215c64eadac9"
      },
      "execution_count": 52,
      "outputs": [
        {
          "output_type": "stream",
          "name": "stdout",
          "text": [
            "11\n"
          ]
        }
      ]
    },
    {
      "cell_type": "code",
      "source": [
        "def bank(a, years):\n",
        "    for _ in range(years):\n",
        "        a = a * 0.1 + a\n",
        "\n",
        "    return a\n",
        "\n",
        "a=100000\n",
        "years=5\n",
        "print(bank(a, years))"
      ],
      "metadata": {
        "colab": {
          "base_uri": "https://localhost:8080/"
        },
        "id": "D6XyTosMRmfC",
        "outputId": "767677f7-6007-4ec2-a9cd-6904e9b638cf"
      },
      "execution_count": 62,
      "outputs": [
        {
          "output_type": "stream",
          "name": "stdout",
          "text": [
            "161051.0\n"
          ]
        }
      ]
    },
    {
      "cell_type": "code",
      "source": [
        "from math import sqrt\n",
        " \n",
        "def distance(x1, y1, x2, y2):\n",
        "    return sqrt((x1 - x2) ** 2 + (y1 - y2) ** 2)\n",
        " \n",
        "x1 = float(input())\n",
        "x2 = float(input())\n",
        "y1 = float(input())\n",
        "y2 = float(input())\n",
        "print(distance(x1, x2, y1, y2))"
      ],
      "metadata": {
        "colab": {
          "base_uri": "https://localhost:8080/"
        },
        "id": "-1Z2nM43SiGr",
        "outputId": "bce25a7e-0c83-49a5-8342-0773fda18afd"
      },
      "execution_count": 54,
      "outputs": [
        {
          "output_type": "stream",
          "name": "stdout",
          "text": [
            "4\n",
            "-1\n",
            "2\n",
            "6\n",
            "7.280109889280518\n"
          ]
        }
      ]
    },
    {
      "cell_type": "code",
      "source": [
        "def power(a, n):\n",
        "    res = 1\n",
        "    for i in range(abs(n)):\n",
        "        res *= a\n",
        "    if n >= 0:\n",
        "        return res\n",
        "    else:\n",
        "        return 1 / res\n",
        " \n",
        "print(power(float(input()), int(input())))\n"
      ],
      "metadata": {
        "colab": {
          "base_uri": "https://localhost:8080/"
        },
        "id": "ZC7o8DNNS7pL",
        "outputId": "22b31f2d-7c2a-417f-9f63-2e6108265820"
      },
      "execution_count": 57,
      "outputs": [
        {
          "output_type": "stream",
          "name": "stdout",
          "text": [
            "4\n",
            "-3\n",
            "0.015625\n"
          ]
        }
      ]
    },
    {
      "cell_type": "code",
      "source": [
        "def is_prime(num):\n",
        "    if num > 1:\n",
        "        for i in range(2, num):\n",
        "            if (num % i) == 0:\n",
        "                return False\n",
        "            else:\n",
        "                return True\n",
        "    else:\n",
        "        return False\n",
        "\n",
        "\n",
        "print(is_prime(4))"
      ],
      "metadata": {
        "colab": {
          "base_uri": "https://localhost:8080/"
        },
        "id": "gP4YqvrRTLER",
        "outputId": "5e3282c8-d175-45d2-ab25-7e0f25b7dfdd"
      },
      "execution_count": 75,
      "outputs": [
        {
          "output_type": "stream",
          "name": "stdout",
          "text": [
            "False\n"
          ]
        }
      ]
    }
  ]
}