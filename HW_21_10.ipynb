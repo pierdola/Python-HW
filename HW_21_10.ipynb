{
  "nbformat": 4,
  "nbformat_minor": 0,
  "metadata": {
    "colab": {
      "name": "HW 21.10",
      "provenance": []
    },
    "kernelspec": {
      "name": "python3",
      "display_name": "Python 3"
    },
    "language_info": {
      "name": "python"
    }
  },
  "cells": [
    {
      "cell_type": "code",
      "execution_count": 13,
      "metadata": {
        "colab": {
          "base_uri": "https://localhost:8080/"
        },
        "id": "yW30foj6Cq7_",
        "outputId": "dbe8f086-25ac-45ed-88e7-0c2d79402441"
      },
      "outputs": [
        {
          "output_type": "stream",
          "name": "stdout",
          "text": [
            "[9, 4, 8, 6, 7]\n"
          ]
        }
      ],
      "source": [
        "a = [9, 4, 8, 6, 7, k]\n",
        "for i in a:\n",
        "  if i==k:\n",
        "   a.remove(i)\n",
        "print(a)"
      ]
    },
    {
      "cell_type": "code",
      "source": [
        "a=[8, 6, 4, 2, 9]\n",
        "for i in a:\n",
        "  if i==max(a):\n",
        "    a.remove(i)\n",
        "print(max(a))"
      ],
      "metadata": {
        "colab": {
          "base_uri": "https://localhost:8080/"
        },
        "id": "_2X5Ed8jEwI3",
        "outputId": "d9b12038-53f7-4b8e-ff74-3c81d27a12f8"
      },
      "execution_count": 14,
      "outputs": [
        {
          "output_type": "stream",
          "name": "stdout",
          "text": [
            "8\n"
          ]
        }
      ]
    },
    {
      "cell_type": "code",
      "source": [
        "a = [int(s) for s in input().split()]\n",
        "cnt = 0\n",
        "for i in range(len(a)):\n",
        "    for j in range(i + 1, len(a)):\n",
        "        if a[i] == a[j]:\n",
        "            cnt += 1\n",
        "print(cnt)"
      ],
      "metadata": {
        "colab": {
          "base_uri": "https://localhost:8080/"
        },
        "id": "zIxQySJhF0T0",
        "outputId": "f100eaeb-e3dc-4c1f-9d59-d1e539ec467e"
      },
      "execution_count": 16,
      "outputs": [
        {
          "output_type": "stream",
          "name": "stdout",
          "text": [
            "5 4 7 5 8 9 4 7\n",
            "3\n"
          ]
        }
      ]
    },
    {
      "cell_type": "code",
      "source": [
        "a = [int(s) for s in input().split()]\n",
        "for i in range(len(a)):\n",
        "    for j in range(len(a)):\n",
        "        if i != j and a[i] == a[j]:\n",
        "            break\n",
        "    else:\n",
        "        print(a[i], end=' ')\n"
      ],
      "metadata": {
        "colab": {
          "base_uri": "https://localhost:8080/"
        },
        "id": "3gj7P3ZsC8MI",
        "outputId": "d56b8418-0706-45f0-a166-259891e04989"
      },
      "execution_count": 17,
      "outputs": [
        {
          "output_type": "stream",
          "name": "stdout",
          "text": [
            "5 4 6 8 4 6 5\n",
            "8 "
          ]
        }
      ]
    },
    {
      "cell_type": "code",
      "source": [
        "a = [int(i) for i in input().split()]\n",
        "for i in range(1, len(a), 2):\n",
        "    a[i - 1], a[i] = a[i], a[i - 1]\n",
        "print(' '.join([str(i) for i in a]))\n"
      ],
      "metadata": {
        "colab": {
          "base_uri": "https://localhost:8080/"
        },
        "id": "o2qrFOxAG_Xd",
        "outputId": "a0018fb6-d785-4a99-e106-03afb120b1bf"
      },
      "execution_count": 19,
      "outputs": [
        {
          "output_type": "stream",
          "name": "stdout",
          "text": [
            "5 4 9 8 6 2\n",
            "4 5 8 9 2 6\n"
          ]
        }
      ]
    },
    {
      "cell_type": "code",
      "source": [
        "a = [int(s) for s in input().split()]\n",
        "k = int(input())\n",
        "for i in range(k + 1, len(a)):\n",
        "    a[i - 1] = a[i]\n",
        "a.pop()\n",
        "print(' '.join([str(i) for i in a]))\n"
      ],
      "metadata": {
        "colab": {
          "base_uri": "https://localhost:8080/"
        },
        "id": "rO6r8S3gHfHU",
        "outputId": "a2941697-f04e-49b6-f9e2-a755231872f7"
      },
      "execution_count": 20,
      "outputs": [
        {
          "output_type": "stream",
          "name": "stdout",
          "text": [
            "4 5 9 7 8 6 3\n",
            "5\n",
            "4 5 9 7 8 3\n"
          ]
        }
      ]
    },
    {
      "cell_type": "code",
      "source": [
        "a = [int(s) for s in input().split()]\n",
        "k = int(input())\n",
        "C = [int(s) for s in input().split()]\n",
        "a.append(0)\n",
        "for i in range(len(a) - 1, k, -1):\n",
        "    a[i] = a[i - 1]\n",
        "a[k] = C\n",
        "print(' '.join([str(i) for i in a]))"
      ],
      "metadata": {
        "colab": {
          "base_uri": "https://localhost:8080/"
        },
        "id": "6xx_C_lrHqp-",
        "outputId": "a7766b28-1a2b-43cb-ba6c-0e9259996f2c"
      },
      "execution_count": 27,
      "outputs": [
        {
          "output_type": "stream",
          "name": "stdout",
          "text": [
            "4 8 9 6 2 4 7\n",
            "3\n",
            "8 4 7 9\n",
            "4 8 9 [8, 4, 7, 9] 6 2 4 7\n"
          ]
        }
      ]
    },
    {
      "cell_type": "code",
      "source": [
        ""
      ],
      "metadata": {
        "id": "VMFJOjg7ICDu"
      },
      "execution_count": null,
      "outputs": []
    }
  ]
}