{
  "nbformat": 4,
  "nbformat_minor": 0,
  "metadata": {
    "colab": {
      "name": "HW 16.12",
      "provenance": [],
      "collapsed_sections": []
    },
    "kernelspec": {
      "name": "python3",
      "display_name": "Python 3"
    },
    "language_info": {
      "name": "python"
    }
  },
  "cells": [
    {
      "cell_type": "code",
      "execution_count": 2,
      "metadata": {
        "colab": {
          "base_uri": "https://localhost:8080/"
        },
        "id": "BKjH_vSGXG8X",
        "outputId": "ed0edb67-3d32-4113-e16a-128064daad19"
      },
      "outputs": [
        {
          "output_type": "stream",
          "name": "stdout",
          "text": [
            "[5, 5, 4, 6, 9, 2]\n"
          ]
        }
      ],
      "source": [
        "def count(mylist):\n",
        "    newlist = []\n",
        "    newlist.append(mylist[0])\n",
        "    stor = False\n",
        "    for i in mylist:\n",
        "        stor = False\n",
        "        for j in newlist:\n",
        "            if j == i:\n",
        "                stor == True\n",
        "        if not stor:\n",
        "            newlist.append(i)\n",
        "    return newlist\n",
        "\n",
        "print(count([5, 4, 6, 9 ,2]))\n",
        "\n"
      ]
    },
    {
      "cell_type": "code",
      "source": [
        "print(len(set(input().split()) & set(input().split())))"
      ],
      "metadata": {
        "colab": {
          "base_uri": "https://localhost:8080/"
        },
        "id": "tpKvSaszXQ5z",
        "outputId": "29de5168-7815-4b90-9c39-16c8257d3c3c"
      },
      "execution_count": 1,
      "outputs": [
        {
          "output_type": "stream",
          "name": "stdout",
          "text": [
            "8 7 6\n",
            "4 7 2\n",
            "1\n"
          ]
        }
      ]
    },
    {
      "cell_type": "code",
      "source": [
        "print(*sorted(set(input().split()) & set(input().split()), key=int))"
      ],
      "metadata": {
        "colab": {
          "base_uri": "https://localhost:8080/"
        },
        "id": "93dTEhaiXpwM",
        "outputId": "ec5074e9-ebe0-4c28-e526-7c40a9536719"
      },
      "execution_count": 3,
      "outputs": [
        {
          "output_type": "stream",
          "name": "stdout",
          "text": [
            "4 6 8 9 7\n",
            "4 6 2 3 7\n",
            "4 6 7\n"
          ]
        }
      ]
    },
    {
      "cell_type": "code",
      "source": [
        "words = set()\n",
        "for _ in range(int(input())):\n",
        "    words.update(input().split())\n",
        "print(len(words))"
      ],
      "metadata": {
        "id": "BNy7o_4eYLAa"
      },
      "execution_count": null,
      "outputs": []
    },
    {
      "cell_type": "code",
      "source": [
        "counter = {}\n",
        "for word in input().split():\n",
        "    counter[word] = counter.get(word, 0) + 1\n",
        "    print(counter[word] - 1, end=' ')"
      ],
      "metadata": {
        "colab": {
          "base_uri": "https://localhost:8080/"
        },
        "id": "CdUGraQdZh_D",
        "outputId": "bb5573c8-1f0c-4049-ec3c-27b735be8606"
      },
      "execution_count": 15,
      "outputs": [
        {
          "output_type": "stream",
          "name": "stdout",
          "text": [
            "5 4 8 9\n",
            "0 0 0 0 "
          ]
        }
      ]
    },
    {
      "cell_type": "code",
      "source": [
        "n = int(input())\n",
        "d = {}\n",
        "for i in range(n):\n",
        "    first, second = input().split()\n",
        "    d[first] = second\n",
        "    d[second] = first\n",
        "print(d[input()])"
      ],
      "metadata": {
        "id": "R_HPYJvjZnHn"
      },
      "execution_count": null,
      "outputs": []
    },
    {
      "cell_type": "code",
      "source": [
        "counter = {}\n",
        "for i in range(int(input())):\n",
        "    line = input().split()\n",
        "    for word in line:\n",
        "        counter[word] = counter.get(word, 0) + 1\n",
        "         \n",
        "max_count = max(counter.values())\n",
        "most_frequent = [k for k, v in counter.items() if v == max_count]\n",
        "print(min(most_frequent))"
      ],
      "metadata": {
        "id": "VygO_W_BZre1"
      },
      "execution_count": null,
      "outputs": []
    },
    {
      "cell_type": "code",
      "source": [
        "from collections import Counter\n",
        " \n",
        "words = []\n",
        "for _ in range(int(input())):\n",
        "    words.extend(input().split())\n",
        " \n",
        "counter = Counter(words)\n",
        "pairs = [(-pair[1], pair[0]) for pair in counter.most_common()]\n",
        "words = [pair[1] for pair in sorted(pairs)]\n",
        "print('\\n'.join(words))"
      ],
      "metadata": {
        "id": "kmydFGttZt5s"
      },
      "execution_count": null,
      "outputs": []
    },
    {
      "cell_type": "code",
      "source": [
        "motherland = {}\n",
        "for i in range(int(input())):\n",
        "    country, *cities = input().split()\n",
        "    for city in cities:\n",
        "        motherland[city] = country\n",
        "         \n",
        "for i in range(int(input())):\n",
        "    print(motherland[input()])"
      ],
      "metadata": {
        "id": "mo1qoYo3ZxVL"
      },
      "execution_count": null,
      "outputs": []
    },
    {
      "cell_type": "code",
      "source": [
        "from collections import defaultdict\n",
        "from sys import stdin\n",
        " \n",
        "clients = defaultdict(lambda: defaultdict(int))\n",
        "for line in stdin.readlines():\n",
        "    client, thing, value = line.split()\n",
        "    clients[client][thing] += int(value)\n",
        "         \n",
        "for client in sorted(clients):\n",
        "    print(client + ':')\n",
        "    for thing in sorted(clients[client]):\n",
        "        print(thing, clients[client][thing])"
      ],
      "metadata": {
        "id": "1V5OKUVxZzlt"
      },
      "execution_count": 13,
      "outputs": []
    }
  ]
}